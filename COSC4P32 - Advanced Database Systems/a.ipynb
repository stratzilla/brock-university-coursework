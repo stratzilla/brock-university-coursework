{
 "cells": [
  {
   "cell_type": "raw",
   "id": "dabab25d",
   "metadata": {},
   "source": [
    "Robert Scott, 45823423\n",
    "Diego Vergara Gonzalez, 6583819\n",
    "Yujie Wang, 5814637"
   ]
  },
  {
   "cell_type": "markdown",
   "id": "abc0588c-f676-45d8-8873-3424b326d08e",
   "metadata": {},
   "source": [
    "# Goal: students will implement a basic relational algebra system using Python."
   ]
  },
  {
   "cell_type": "markdown",
   "id": "b69311b0-b4b4-405b-894c-fc6f28e8c003",
   "metadata": {},
   "source": [
    "## Loading Data\n",
    "\n",
    "We will read from csv files into lists"
   ]
  },
  {
   "cell_type": "code",
   "execution_count": null,
   "id": "64a34334-0dd3-42a6-9e53-dc23226b7bcd",
   "metadata": {},
   "outputs": [],
   "source": [
    "import csv\n",
    "def open_file(filename):\n",
    "    with open(filename, 'r', newline = '') as f:\n",
    "        reader = csv.reader(f, delimiter='\\t')\n",
    "        data = list(reader)\n",
    "        return data[1:]"
   ]
  },
  {
   "cell_type": "code",
   "execution_count": null,
   "id": "be6c5075-9892-4700-9f7f-59b38653cd28",
   "metadata": {},
   "outputs": [],
   "source": [
    "# Data source: https://relational.fit.cvut.cz/dataset/IMDb\n",
    "# Information courtesy of IMDb (http://www.imdb.com). Used with permission.\n",
    "# Notice: The data can only be used for personal and non-commercial use and must not\n",
    "# be altered/republished/resold/repurposed to create any kind of online/offline\n",
    "# database of movie information (except for individual personal use).\n",
    "\n",
    "path = 'data/IMDb_sample'  \n",
    "# create a list of all files in that directory that end with \"*.csv\":\n",
    "\n",
    "actors = open_file(path + '/actors.csv')\n",
    "directors_genres = open_file(path + '/directors_genres.csv')\n",
    "directors = open_file(path + '/directors.csv')\n",
    "movies_directors = open_file(path + '/movies_directors.csv')\n",
    "movies_genres = open_file(path + '/movies_genres.csv')\n",
    "movies = open_file(path + '/movies.csv')\n",
    "roles = open_file(path + '/roles.csv')\n"
   ]
  },
  {
   "cell_type": "code",
   "execution_count": null,
   "id": "adeb463b-6d8f-4b88-a5a2-7f5e5330fa03",
   "metadata": {
    "tags": []
   },
   "outputs": [],
   "source": [
    "actors"
   ]
  },
  {
   "cell_type": "code",
   "execution_count": null,
   "id": "fe8f1b31-61d7-4c3f-91f0-035e8e58c034",
   "metadata": {},
   "outputs": [],
   "source": [
    "# Creating another table with actors for testing purposes\n",
    "\n",
    "extra_actors = [['109100', 'Renata', 'Dividino', 'F'], ['481290', 'Burnell', 'Tucker', 'M'], ['10963', 'Chris', 'Anastasio', 'M']]\n",
    "extra_actors"
   ]
  },
  {
   "cell_type": "markdown",
   "id": "825dcc68-9710-4aed-87de-7b1cd1dbc3c5",
   "metadata": {},
   "source": [
    "## Implementing Relational Algebra Operators"
   ]
  },
  {
   "cell_type": "markdown",
   "id": "74ec3556-76e1-4bdf-9b0a-64c95730b005",
   "metadata": {},
   "source": [
    "### Set Operators"
   ]
  },
  {
   "cell_type": "code",
   "execution_count": null,
   "id": "e4ea2dec-c95d-434b-88f5-262304bf0e49",
   "metadata": {},
   "outputs": [],
   "source": [
    "def union(rel_a, rel_b):\n",
    "    \"\"\"Relational algebra project set union.\n",
    "    Finds the union between two relations.\n",
    "    \n",
    "    Parameters:\n",
    "        rel_a : the first relation.\n",
    "        rel_b : the second relation.\n",
    "    \n",
    "    Returns:\n",
    "        The union between rel_a and rel_b.\n",
    "    \"\"\" \n",
    "    return rel_a + rel_b"
   ]
  },
  {
   "cell_type": "code",
   "execution_count": null,
   "id": "68e2d05b-39ab-48ec-8613-7be39975a17e",
   "metadata": {},
   "outputs": [],
   "source": [
    "def union2(rel_a, rel_b):\n",
    "    \"\"\"Relational algebra project set union with no duplicates.\n",
    "    Finds the union between two relations, but without duplicates.\n",
    "\n",
    "    Parameters:\n",
    "        rel_a : the first relation.\n",
    "        rel_b : the second relation.\n",
    "    \n",
    "    Returns:\n",
    "        The union between rel_a and rel_b without reduplication.\n",
    "    \"\"\"\n",
    "    # effectively cast the union as a set, which has no duplicates.\n",
    "    return set(union(rel_a, rel_b))"
   ]
  },
  {
   "cell_type": "code",
   "execution_count": null,
   "id": "2b416867-8ad9-4bca-80bd-1656acf6357c",
   "metadata": {},
   "outputs": [],
   "source": [
    "def intersection(rel_a, rel_b):\n",
    "    \"\"\"Relational algebra project set intersection.\n",
    "    Finds the intersection between two relations.\n",
    "    \n",
    "    Parameters:\n",
    "        rel_a : the first relation.\n",
    "        rel_b : the second relation.\n",
    "    \n",
    "    Returns:\n",
    "        The intersect between rel_a and rel_b.\n",
    "    \"\"\" \n",
    "    return [i for i in rel_a if i in rel_b]"
   ]
  },
  {
   "cell_type": "code",
   "execution_count": null,
   "id": "f5495822-0613-42a6-a8f6-bd16b18ef55a",
   "metadata": {},
   "outputs": [],
   "source": [
    "def set_difference(rel_a, rel_b):\n",
    "    \"\"\"Relational algebra project set difference.\n",
    "    Finds the set difference between two relations.\n",
    "    \n",
    "    Parameters:\n",
    "        rel_a : the first relation.\n",
    "        rel_b : the second relation.\n",
    "    \n",
    "    Returns:\n",
    "        The set difference between rel_a and rel_b.\n",
    "    \"\"\" \n",
    "    return [i for i in rel_a if i not in rel_b]"
   ]
  },
  {
   "cell_type": "markdown",
   "id": "83bc4338-99a6-4d86-9d84-37bc1a6f2187",
   "metadata": {},
   "source": [
    "Now Perform the union between the actors and extra_actors relation\n",
    "This operation should returns all of the rows of actor and extra_actors unioned in to a single list. "
   ]
  },
  {
   "cell_type": "code",
   "execution_count": null,
   "id": "3b361355-669d-424f-b0bd-ba342d3e07c0",
   "metadata": {},
   "outputs": [],
   "source": [
    "union(actors, extra_actors)"
   ]
  },
  {
   "cell_type": "markdown",
   "id": "b58e43c8-3000-44e3-8a7c-ea320375f40c",
   "metadata": {},
   "source": [
    "### Selection"
   ]
  },
  {
   "cell_type": "markdown",
   "id": "b839e25a-6950-4c7b-a482-b31db17e62cc",
   "metadata": {},
   "source": [
    "Now we can use a loop to perform selections on our data. For example we can create a list of all of the male actors:"
   ]
  },
  {
   "cell_type": "code",
   "execution_count": null,
   "id": "72259e4f-db8f-4a3d-a7c9-a26ef7f92f02",
   "metadata": {},
   "outputs": [],
   "source": [
    "import operator # needed to map operators to modes.\n",
    "\n",
    "def selection(relation, column, predicate, mode):\n",
    "    \"\"\"Relational algebra project selection.\n",
    "    Finds rows where some selection criteria is met.\n",
    "    \n",
    "    Parameters:\n",
    "        relation : the relation to apply selection operator on.\n",
    "        column : the column to select from.\n",
    "        predicate : what to select from column.\n",
    "        mode : what kind of arithmetic operator to use for selection.\n",
    "    \n",
    "    Returns:\n",
    "        A relation of rows as selected from the original relation.    \n",
    "    \"\"\" \n",
    "    # a dict mapping operators to modes\n",
    "    op_map = {\n",
    "        '<':operator.lt,\n",
    "        '>':operator.gt,\n",
    "        '<=':operator.le,\n",
    "        '>=':operator.ge,\n",
    "        '==':operator.eq,\n",
    "        '!=':operator.ne\n",
    "    }\n",
    "    return [i for i in relation if op_map[mode](i[column], predicate)]"
   ]
  },
  {
   "cell_type": "code",
   "execution_count": null,
   "id": "516c21d3",
   "metadata": {},
   "outputs": [],
   "source": [
    "# perform selection on actors data, gender is 3rd (zero indexed) column.\n",
    "selection(actors, 3, 'M', '==')"
   ]
  },
  {
   "cell_type": "markdown",
   "id": "f0b425ca-f4ba-43c8-b8a9-00f7f9adfb16",
   "metadata": {},
   "source": [
    "Exercise:\n",
    "- Show all tuples from actors that first name is Chris\n",
    "- Show all tuples from movies that were made after 1998 \n",
    "- Show all tuples from actors that are female AND id is bigger than 200000"
   ]
  },
  {
   "cell_type": "code",
   "execution_count": null,
   "id": "358264e2-dd78-4433-a124-c97cc4e4792d",
   "metadata": {
    "tags": []
   },
   "outputs": [],
   "source": [
    "selection(actors, 1, 'Chris', '==')"
   ]
  },
  {
   "cell_type": "code",
   "execution_count": null,
   "id": "c800bcd2",
   "metadata": {},
   "outputs": [],
   "source": [
    "selection(movies, 2, '1998', '>')"
   ]
  },
  {
   "cell_type": "code",
   "execution_count": null,
   "id": "4b7dc5d6",
   "metadata": {},
   "outputs": [],
   "source": [
    "# find relations as a function of the selection operator applied to a table.\n",
    "rel_a = selection(actors, 3, 'F', '==')\n",
    "rel_b = selection(actors, 0, '200000', '>')\n",
    "\n",
    "# intersect the two.\n",
    "intersection(rel_a, rel_b)"
   ]
  },
  {
   "cell_type": "markdown",
   "id": "4d2e876b-0bce-4939-8f0d-0ebc95ae804f",
   "metadata": {},
   "source": [
    "### Projection"
   ]
  },
  {
   "cell_type": "markdown",
   "id": "6388bf67-df3d-4bda-93d4-d5db05417d0f",
   "metadata": {},
   "source": [
    "Now we want to implement the projection operator."
   ]
  },
  {
   "cell_type": "code",
   "execution_count": null,
   "id": "86216c10-61c5-4eff-a1c9-1b07c1844b61",
   "metadata": {},
   "outputs": [],
   "source": [
    "def project(relation, columns):\n",
    "    \"\"\"Relational algebra projection operator.\n",
    "    Projects specified columns from the relation to then be viewed.\n",
    "    \n",
    "    Parameters:\n",
    "       relation : the relation to project.\n",
    "       columns : list iterable columns to project from relation.\n",
    "    \n",
    "    Returns:\n",
    "        The specified columns from the relation.\n",
    "    \"\"\"\n",
    "    # catch instances where supplied column parameter is out of range.\n",
    "    try:\n",
    "        proj = [[row[i] for i in columns] for row in relation]\n",
    "    except IndexError:\n",
    "        proj = []\n",
    "    return proj"
   ]
  },
  {
   "cell_type": "markdown",
   "id": "754e43ce-3575-4c45-b752-400aaaefcb5b",
   "metadata": {},
   "source": [
    "Exercise:\n",
    "\n",
    "- Find the last name of all actors named Chris\n",
    "- Find the names of the movies that were made after 1998 \n",
    "- Find the name of actors that are female AND id is bigger than 200000"
   ]
  },
  {
   "cell_type": "code",
   "execution_count": null,
   "id": "c130d5d2-328c-4d66-89f0-6f316167c477",
   "metadata": {
    "tags": []
   },
   "outputs": [],
   "source": [
    "# apply selection operator to table, then project specified column.\n",
    "project(selection(actors, 1, 'Chris', '=='), [2])"
   ]
  },
  {
   "cell_type": "code",
   "execution_count": null,
   "id": "e712c69a",
   "metadata": {},
   "outputs": [],
   "source": [
    "# apply selection operator to table, then project specified column.\n",
    "project(selection(movies, 2, '1998', '>'), [1])"
   ]
  },
  {
   "cell_type": "code",
   "execution_count": null,
   "id": "bac6f48e",
   "metadata": {},
   "outputs": [],
   "source": [
    "# find relations as a function of the selection operator applied to a table.\n",
    "rel_a = selection(actors, 3, 'F' ,'==')\n",
    "rel_b = selection(actors, 0, '200000' ,'>')\n",
    "\n",
    "# intersect the two and project the specified column.\n",
    "project(intersection(rel_a, rel_b), [1])"
   ]
  },
  {
   "cell_type": "markdown",
   "id": "f8a0834f-3bde-4714-8a51-756c04f258b6",
   "metadata": {},
   "source": [
    "### Cross Product"
   ]
  },
  {
   "cell_type": "markdown",
   "id": "efb91863-5d1b-44e6-b70c-8ab3b8c6f934",
   "metadata": {},
   "source": [
    "Lets implement the cross product next. The cross product pairs each row of a relation with every row of another relation to create a new relation that contains every possible combination of the input relations tuples."
   ]
  },
  {
   "cell_type": "code",
   "execution_count": null,
   "id": "b5e40f3d-ce38-4e0c-bae1-7da15adf40f3",
   "metadata": {},
   "outputs": [],
   "source": [
    "def crossproduct(rel_a, rel_b):\n",
    "    \"\"\"Finds the cross product between two relations.\n",
    "    The cross product between two relations is the concatenation of each\n",
    "    row in the first relation to each row in the second relation. The\n",
    "    cardinality of the cross product is |rel_a| * |rel_b|.\n",
    "    \n",
    "    Parameters:\n",
    "        rel_a : the first relation.\n",
    "        rel_b : the second relation.\n",
    "    \n",
    "    Returns:\n",
    "        The cross product between relations rel_a and rel_b.\n",
    "    \"\"\"\n",
    "    return [row_a + row_b for row_a in rel_a for row_b in rel_b]"
   ]
  },
  {
   "cell_type": "markdown",
   "id": "2dc9e401-d770-4bbc-a64e-14dea539bcc4",
   "metadata": {},
   "source": [
    "To test our cross product function take the cross product of actors and movies"
   ]
  },
  {
   "cell_type": "code",
   "execution_count": null,
   "id": "f20b094f-595b-4a82-8296-1402ea131a8a",
   "metadata": {
    "tags": []
   },
   "outputs": [],
   "source": [
    "crossproduct(actors, movies)"
   ]
  },
  {
   "cell_type": "markdown",
   "id": "8771ff64-df65-4b91-a08e-ecd4ada531e2",
   "metadata": {},
   "source": [
    "Finally, lets print the name of actors and the name of movies they have had a role in it."
   ]
  },
  {
   "cell_type": "code",
   "execution_count": null,
   "id": "4232f0c4-2bae-4df5-889d-acd1ec849a08",
   "metadata": {},
   "outputs": [],
   "source": [
    "# create relation as the crossproduct of actors and movies.\n",
    "cross_prod = crossproduct(actors, movies)\n",
    "\n",
    "# select the (actor_id,movie_id) pair from the cross product.\n",
    "act_mov_pairs = project(cross_prod, [0, 4])\n",
    "\n",
    "# likewise, get the (actor_name,movie_name) pair from the cross product.\n",
    "acted_in = project(cross_prod, [1, 2, 5])\n",
    "\n",
    "# get the roles, but we only need id pairs.\n",
    "role_list = project(roles, [0, 1])\n",
    "\n",
    "# generate the relation we need.\n",
    "rel = [acted_in[i] for i,j in enumerate(act_mov_pairs) if j in role_list]"
   ]
  },
  {
   "cell_type": "code",
   "execution_count": null,
   "id": "eb6742f7-d506-4489-a48f-f99524528638",
   "metadata": {},
   "outputs": [],
   "source": [
    "rel"
   ]
  }
 ],
 "metadata": {
  "kernelspec": {
   "display_name": "Python 3 (ipykernel)",
   "language": "python",
   "name": "python3"
  },
  "language_info": {
   "codemirror_mode": {
    "name": "ipython",
    "version": 3
   },
   "file_extension": ".py",
   "mimetype": "text/x-python",
   "name": "python",
   "nbconvert_exporter": "python",
   "pygments_lexer": "ipython3",
   "version": "3.8.10"
  }
 },
 "nbformat": 4,
 "nbformat_minor": 5
}
